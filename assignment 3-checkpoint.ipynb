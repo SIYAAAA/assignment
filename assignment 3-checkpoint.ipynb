{
 "cells": [
  {
   "cell_type": "code",
   "execution_count": 1,
   "metadata": {},
   "outputs": [
    {
     "name": "stdout",
     "output_type": "stream",
     "text": [
      "indeterminate\n",
      "enter a divisor other than 0\n"
     ]
    }
   ],
   "source": [
    "try:\n",
    "    c=5/0\n",
    "except:\n",
    "    print(\"indeterminate\")\n",
    "finally:\n",
    "    print(\"enter a divisor other than 0\")"
   ]
  },
  {
   "cell_type": "code",
   "execution_count": 5,
   "metadata": {},
   "outputs": [
    {
     "name": "stdout",
     "output_type": "stream",
     "text": [
      "Americans play baseball\n",
      "Americans watch baseball\n",
      "Americans play cricket\n",
      "Americans watch cricket\n",
      "Indians play baseball\n",
      "Indians watch baseball\n",
      "Indians play cricket\n",
      "Indians watch cricket\n"
     ]
    }
   ],
   "source": [
    "subjects=['Americans','Indians']\n",
    "verb=['play','watch']\n",
    "object=['baseball','cricket']\n",
    "for i in range(0,2):\n",
    "    print(subjects[0]+' '+verb[0]+' '+object[i])\n",
    "    print(subjects[0]+' '+verb[1]+' '+object[i])\n",
    "for j in range(0,2):    \n",
    "    print(subjects[1]+' '+verb[0]+' '+object[j])\n",
    "    print(subjects[1]+' '+verb[1]+' '+object[j])"
   ]
  },
  {
   "cell_type": "code",
   "execution_count": 17,
   "metadata": {},
   "outputs": [
    {
     "name": "stdout",
     "output_type": "stream",
     "text": [
      "2 3 4 5 6 7\n",
      "[2 3 4 5 6 7]\n"
     ]
    }
   ],
   "source": [
    "import numpy as np\n",
    "row=[int(i) for i in input().split()]\n",
    "arr=np.array(row)\n",
    "print(arr)\n",
    "\n"
   ]
  },
  {
   "cell_type": "code",
   "execution_count": null,
   "metadata": {},
   "outputs": [],
   "source": []
  }
 ],
 "metadata": {
  "kernelspec": {
   "display_name": "Python 3",
   "language": "python",
   "name": "python3"
  },
  "language_info": {
   "codemirror_mode": {
    "name": "ipython",
    "version": 3
   },
   "file_extension": ".py",
   "mimetype": "text/x-python",
   "name": "python",
   "nbconvert_exporter": "python",
   "pygments_lexer": "ipython3",
   "version": "3.7.4"
  }
 },
 "nbformat": 4,
 "nbformat_minor": 2
}
