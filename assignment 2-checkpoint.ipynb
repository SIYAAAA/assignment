{
 "cells": [
  {
   "cell_type": "code",
   "execution_count": 3,
   "metadata": {},
   "outputs": [
    {
     "ename": "NameError",
     "evalue": "name 'split' is not defined",
     "output_type": "error",
     "traceback": [
      "\u001b[1;31m---------------------------------------------------------------------------\u001b[0m",
      "\u001b[1;31mNameError\u001b[0m                                 Traceback (most recent call last)",
      "\u001b[1;32m<ipython-input-3-93662b51d1d4>\u001b[0m in \u001b[0;36m<module>\u001b[1;34m\u001b[0m\n\u001b[0;32m      2\u001b[0m \u001b[0mn\u001b[0m\u001b[1;33m=\u001b[0m\u001b[0mlen\u001b[0m\u001b[1;33m(\u001b[0m\u001b[0ms\u001b[0m\u001b[1;33m)\u001b[0m\u001b[1;33m\u001b[0m\u001b[1;33m\u001b[0m\u001b[0m\n\u001b[0;32m      3\u001b[0m \u001b[1;32mfor\u001b[0m \u001b[0mi\u001b[0m \u001b[1;32min\u001b[0m \u001b[0mrange\u001b[0m\u001b[1;33m(\u001b[0m\u001b[1;36m0\u001b[0m\u001b[1;33m,\u001b[0m\u001b[0mn\u001b[0m\u001b[1;33m)\u001b[0m\u001b[1;33m:\u001b[0m\u001b[1;33m\u001b[0m\u001b[1;33m\u001b[0m\u001b[0m\n\u001b[1;32m----> 4\u001b[1;33m     \u001b[0mprint\u001b[0m\u001b[1;33m(\u001b[0m\u001b[0msplit\u001b[0m\u001b[1;33m(\u001b[0m\u001b[0ms\u001b[0m\u001b[1;33m[\u001b[0m\u001b[0mi\u001b[0m\u001b[1;33m]\u001b[0m\u001b[1;33m,\u001b[0m\u001b[0msep\u001b[0m\u001b[1;33m=\u001b[0m\u001b[1;34m','\u001b[0m\u001b[1;33m,\u001b[0m\u001b[0mend\u001b[0m\u001b[1;33m=\u001b[0m\u001b[1;34m''\u001b[0m\u001b[1;33m)\u001b[0m\u001b[1;33m)\u001b[0m\u001b[1;33m\u001b[0m\u001b[1;33m\u001b[0m\u001b[0m\n\u001b[0m",
      "\u001b[1;31mNameError\u001b[0m: name 'split' is not defined"
     ]
    }
   ],
   "source": [
    "s='ACADGILD'\n",
    "n=len(s)\n",
    "for i in range(0,n):\n",
    "    print(s[i],sep=',',end='')"
   ]
  },
  {
   "cell_type": "code",
   "execution_count": 4,
   "metadata": {},
   "outputs": [
    {
     "name": "stdout",
     "output_type": "stream",
     "text": [
      "4 5 6\n",
      "15\n"
     ]
    }
   ],
   "source": [
    "#to claculate sum of a list\n",
    "def myreduce(l):\n",
    "    k=len(l)\n",
    "    s=0\n",
    "    for i in range(0,k):\n",
    "         s=s+l[i]\n",
    "    return(s)\n",
    "    print(s)\n",
    "l=[int(j) for j in input().split()]\n",
    "print(myreduce(l));\n"
   ]
  },
  {
   "cell_type": "code",
   "execution_count": 5,
   "metadata": {},
   "outputs": [
    {
     "name": "stdout",
     "output_type": "stream",
     "text": [
      " 45 6 7\n",
      "false\n",
      "True\n",
      "false\n"
     ]
    }
   ],
   "source": [
    "#to check whether each element of list is odd or even\n",
    "\n",
    "def myfilter(a):\n",
    "    if(a%2==0):\n",
    "        print(\"True\");\n",
    "        return True;\n",
    "    else:\n",
    "        print(\"false\") \n",
    "        return False;\n",
    "    \n",
    "l=[int(j) for j in input().split()] \n",
    "k=len(l)\n",
    "for i in range(0,k):\n",
    "    myfilter(l[i])\n",
    "\n",
    "    "
   ]
  },
  {
   "cell_type": "code",
   "execution_count": 13,
   "metadata": {},
   "outputs": [
    {
     "name": "stdout",
     "output_type": "stream",
     "text": [
      "13\n"
     ]
    }
   ],
   "source": [
    "def find(x):\n",
    "    new_arr=x.split(' ')\n",
    "    return(len(max(new_arr,key=len)))\n",
    "print(find('shd deepa dermatologist'))"
   ]
  },
  {
   "cell_type": "code",
   "execution_count": 8,
   "metadata": {},
   "outputs": [
    {
     "name": "stdout",
     "output_type": "stream",
     "text": [
      "['x', 'xx', 'xxx', 'xxxx', 'y', 'yy', 'yyy', 'yyyy', 'z', 'zz', 'zzz', 'zzzz']\n"
     ]
    }
   ],
   "source": [
    "a=['x','y','z']\n",
    "c='';c1='';c2='';c3='';c4=''\n",
    "for ai in a:\n",
    "    c=ai;c1=ai+ai;c2=ai+ai+ai;c3=ai+ai+ai+ai\n",
    "    c4=c4+'\\n'+c+'\\n'+c1+'\\n'+c2+'\\n'+c3\n",
    "print(c4.split())"
   ]
  },
  {
   "cell_type": "code",
   "execution_count": null,
   "metadata": {},
   "outputs": [],
   "source": [
    "a=['x','y','z']\n",
    "c='';c1='';c2='';c3='';c4=''\n",
    "for ai in a:\n",
    "    c=ai\n",
    "    c4=c4+'\\n'+c\n",
    "    \n",
    "for ai in a:\n",
    "    c1=ai+ai\n",
    "    c4=c4+'\\n'+c1\n",
    "for ai in a:\n",
    "    c2=ai+ai+ai\n",
    "    c4=c4+'\\n'+c2\n",
    "for ai in a:\n",
    "    c3=ai+ai+ai+ai\n",
    "    c4=c4+'\\n'+c3\n",
    "print(c4.split())\n",
    "\n"
   ]
  },
  {
   "cell_type": "code",
   "execution_count": null,
   "metadata": {},
   "outputs": [],
   "source": [
    "a=[2,3,4,5,6]\n",
    "c1=[[]];c2=[]\n",
    "c1=[[a[0]],[a[1]],[a[2]],[a[3]],[a[1]],[a[2]],[a[3]],[a[4]],[a[2]],[a[3]],[a[4]]]\n",
    "print (c1)\n"
   ]
  },
  {
   "cell_type": "code",
   "execution_count": 29,
   "metadata": {},
   "outputs": [
    {
     "name": "stdout",
     "output_type": "stream",
     "text": [
      "[[2, 3, 4, 5], [3, 4, 5, 6], [4, 5, 6, 7], [5, 6, 7, 8]]\n"
     ]
    }
   ],
   "source": [
    "a=[2,3,4,5,6,7,8]\n",
    "c1=[]\n",
    "c1=[a[0:4],a[1:5],a[2:6],a[3:7]]\n",
    "print(c1)"
   ]
  },
  {
   "cell_type": "code",
   "execution_count": 34,
   "metadata": {},
   "outputs": [
    {
     "name": "stdout",
     "output_type": "stream",
     "text": [
      "(1, 1) (2, 1) (3, 1) (1, 2) (2, 2) (3, 2) (1, 3) (2, 3) (3, 3) "
     ]
    }
   ],
   "source": [
    "a=[1,2,3]\n",
    "c=[]\n",
    "for i in a:\n",
    "    for j in range(1,4):\n",
    "        c=[(j,i)]\n",
    "        print(*c,sep=',',end=' ')\n",
    "\n",
    "         \n",
    "    "
   ]
  },
  {
   "cell_type": "code",
   "execution_count": null,
   "metadata": {},
   "outputs": [],
   "source": [
    "s=str(input(\"enter list of words\"))\n",
    "n=len(s)\n",
    "c=[]\n",
    "for i in len(s):\n",
    "    if(s[i]!=0):\n",
    "        n1=n1+1\n",
    "        c=c+s[i]\n",
    "    else:\n",
    "        print(c)\n",
    "        \n",
    "        \n",
    "        \n",
    "        \n",
    "    \n",
    "        "
   ]
  },
  {
   "cell_type": "code",
   "execution_count": 29,
   "metadata": {},
   "outputs": [
    {
     "name": "stdout",
     "output_type": "stream",
     "text": [
      "enter a list of wordsdfd fgfh gh\n"
     ]
    },
    {
     "data": {
      "text/plain": [
       "3"
      ]
     },
     "execution_count": 29,
     "metadata": {},
     "output_type": "execute_result"
    }
   ],
   "source": [
    "c=input(\"enter a list of words\")\n",
    "def size(x):\n",
    "    k=x.split(' ')\n",
    "    return(len(k))\n",
    "size(c)\n",
    "    "
   ]
  },
  {
   "cell_type": "code",
   "execution_count": 31,
   "metadata": {},
   "outputs": [
    {
     "name": "stdout",
     "output_type": "stream",
     "text": [
      "['dsg', 'fdhhhhhhhhhhhhhh', 'fghdgs']\n"
     ]
    }
   ],
   "source": [
    "c=\"dsg fdhhhhhhhhhhhhhh fghdgs\";d=''\n",
    "d=(c.split(' '))\n",
    "print(d)"
   ]
  },
  {
   "cell_type": "code",
   "execution_count": 28,
   "metadata": {},
   "outputs": [
    {
     "name": "stdout",
     "output_type": "stream",
     "text": [
      "enter a characterf\n",
      "FALSE\n"
     ]
    }
   ],
   "source": [
    "c=input(\"enter a character\")\n",
    "if(c=='a'):\n",
    "    print(TRUE)\n",
    "elif(c=='e'):\n",
    "    print(TRUE)\n",
    "elif(c=='i'):\n",
    "    print(TRUE)\n",
    "elif(c=='o'):\n",
    "    print(TRUE)    \n",
    "elif(c=='u'):\n",
    "    print('TRUE')\n",
    "else:\n",
    "    print('FALSE')"
   ]
  },
  {
   "cell_type": "code",
   "execution_count": null,
   "metadata": {},
   "outputs": [],
   "source": []
  },
  {
   "cell_type": "code",
   "execution_count": null,
   "metadata": {},
   "outputs": [],
   "source": []
  },
  {
   "cell_type": "code",
   "execution_count": null,
   "metadata": {},
   "outputs": [],
   "source": []
  }
 ],
 "metadata": {
  "kernelspec": {
   "display_name": "Python 3",
   "language": "python",
   "name": "python3"
  },
  "language_info": {
   "codemirror_mode": {
    "name": "ipython",
    "version": 3
   },
   "file_extension": ".py",
   "mimetype": "text/x-python",
   "name": "python",
   "nbconvert_exporter": "python",
   "pygments_lexer": "ipython3",
   "version": "3.7.4"
  }
 },
 "nbformat": 4,
 "nbformat_minor": 2
}
